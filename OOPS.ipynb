{
  "nbformat": 4,
  "nbformat_minor": 0,
  "metadata": {
    "colab": {
      "provenance": [],
      "collapsed_sections": [
        "TCrcWRWhxetY"
      ]
    },
    "kernelspec": {
      "name": "python3",
      "display_name": "Python 3"
    },
    "language_info": {
      "name": "python"
    }
  },
  "cells": [
    {
      "cell_type": "markdown",
      "source": [
        "#  PYTHON OOPS QUESTIONS\n"
      ],
      "metadata": {
        "id": "TCrcWRWhxetY"
      }
    },
    {
      "cell_type": "markdown",
      "source": [
        "1Q.   What is Object-Oriented Programming (OOP)?\n",
        "\n",
        "A.     Object-oriented programming (OOP) is a programming paradigm\n",
        "       based on the concept of \"objects\", which can contain data and code: data in the form of fields (often known as attributes),and code in the form of procedures (often known as methods). A feature of objects is that an object's procedures can access and often modify the data fields of the object with which they are associated (efficient binding of the procedures and data of the object). Thus, in object-oriented programming, the computer program is designed by making use of objects, or \"classes\", that interact with each other."
      ],
      "metadata": {
        "id": "Ib6vhu-pxuGS"
      }
    },
    {
      "cell_type": "markdown",
      "source": [
        "2Q. What is a class in OOP?\n",
        "\n",
        "A.  In object-oriented programming (OOP), a class is a blueprint  \n",
        "    or a template for creating objects.  Think of it like a cookie cutter: the cookie cutter (class) defines the shape and characteristics of the cookies (objects) you can make.  It's a structure that defines the data (attributes) and the behaviors (methods) that objects created from it will have.\n",
        "\n"
      ],
      "metadata": {
        "id": "ijg9Jn2LyBLs"
      }
    },
    {
      "cell_type": "markdown",
      "source": [
        "3Q. What is an object in OOP?\n",
        "\n",
        "A.  In object-oriented programming (OOP), an object is a specific\n",
        "    instance of a class.  Think of the class as the blueprint or cookie cutter, and the object as the actual cookie created using that cutter.  It's a concrete realization of the class, containing specific data and having the ability to perform the actions defined by the class.\n",
        "    In data science, objects are used to represent and manipulate data in a structured and organized way.  They bring together data (attributes) and the functions that operate on that data (methods) into a single unit"
      ],
      "metadata": {
        "id": "XptP0BAYyj7o"
      }
    },
    {
      "cell_type": "markdown",
      "source": [
        "4Q. What is the difference between abstraction and encapsulation?\n",
        "\n",
        "A. Abstraction and encapsulation are two fundamental principles of\n",
        "   object-oriented programming (OOP) that often work together, but they serve distinct purposes. Here's a breakdown of the difference between them:\n",
        "\n",
        "   Abstraction: Abstraction is the process of simplifying complex systems by focusing only on the essential characteristics and hiding unnecessary details.\n",
        "   It's about creating a simplified view of an object or a system, showing only what's relevant to the user or the task at hand.\n",
        "\n",
        "   Encapsulation: Encapsulation is the bundling of data (attributes) and the methods (functions) that operate on that data into a single unit (class). It also involves restricting direct access to some of the object's internal components, preventing unintended modifications and ensuring data integrity.\n"
      ],
      "metadata": {
        "id": "lgStTOxbzXaB"
      }
    },
    {
      "cell_type": "markdown",
      "source": [
        "5Q. What are dunder methods in Python?\n",
        "\n",
        "A.Dunder methods, also known as magic methods or special methods, are a set of methods in Python that have double underscores (double underscores) at the beginning and end of their names (e.g., __init__, __str__, __len__).  They are used to define how objects of a class behave in certain situations.  These methods are not typically called directly by the user; instead, they are invoked implicitly by Python when certain operations are performed on objects.\n",
        "\n",
        "Here's a breakdown of some important dunder methods and their uses:\n",
        "\n",
        "Core Object Methods:\n",
        "\n",
        "__init__(self, ...): The constructor. Called when a new object of a class is created. Used to initialize the object's attributes. Crucial for setting up the initial state of an object.\n",
        "__del__(self): The destructor. Called when an object is about to be destroyed (garbage collected). Less commonly used, primarily for cleanup tasks like releasing resources.\n",
        "__repr__(self): Returns a string representation of the object that can be used to recreate the object. Ideally, eval(repr(object)) should create an equivalent object. Used for debugging and development.\n",
        "__str__(self): Returns a user-friendly string representation of the object. Called when you use str(object) or print(object). Focuses on readability."
      ],
      "metadata": {
        "id": "RCMSrKoK02RJ"
      }
    },
    {
      "cell_type": "markdown",
      "source": [
        "6Q. Explain the concept of inheritance in OOP.\n",
        "\n",
        "A.  Inheritance is a fundamental concept in object-oriented\n",
        "    programming (OOP) where a new class (called a \"derived class,\" \"child class,\" or \"subclass\") inherits properties and behaviors (attributes and methods) from an existing class (called a \"base class,\" \"parent class,\" or \"superclass\").  Think of it like a family tree: children inherit traits from their parents."
      ],
      "metadata": {
        "id": "jkgcpseZ1P5M"
      }
    },
    {
      "cell_type": "markdown",
      "source": [
        "7Q. What is polymorphism in OOP.\n",
        "\n",
        "A.  Polymorphism is a core concept in object-oriented programming\n",
        "    (OOP) that allows objects of different classes to be treated as objects of a common type.  The word \"polymorphism\" comes from Greek and means \"many forms.\"  In OOP, it refers to the ability of an object to take on many forms or have many types."
      ],
      "metadata": {
        "id": "oJyjvLrJ1f9e"
      }
    },
    {
      "cell_type": "markdown",
      "source": [
        "8Q.  How is encapsulation achieved in Python\n",
        "\n",
        "A. Encapsulation in Python is primarily achieved through a\n",
        "   combination of techniques, as Python doesn't have strict access modifiers like private, protected, and public in the same way as some other languages (like Java or C++).  However, Python's approach emphasizes convention and naming conventions rather than strict enforcement."
      ],
      "metadata": {
        "id": "kb181-Wt18vr"
      }
    },
    {
      "cell_type": "markdown",
      "source": [
        "9Q. What is a constructor in Python.\n",
        "\n",
        "A. In Python, a constructor is a special method within a class  \n",
        "  that is automatically called when you create a new object (instance) of that class. Its primary purpose is to initialize the object's attributes (data members). The constructor's name is always __init__ (double underscores on either side)."
      ],
      "metadata": {
        "id": "F0p2CD0I2XLE"
      }
    },
    {
      "cell_type": "markdown",
      "source": [
        "10Q. What are class and static methods in Python?\n",
        "\n",
        "A. In Python, both class methods and static methods are methods\n",
        "  that are bound to the class and not the instance of the class (like regular instance methods).  However, they differ in how they are defined and how they are called.\n",
        "\n",
        "  Class Methods:\n",
        "\n",
        "  Definition: A class method is defined using the @classmethod decorator. It receives the class itself as the first argument, conventionally named cls.\n",
        "  Purpose: Class methods are often used for factory methods (methods that create instances of the class), alternative constructors, or operations that are related to the class as a whole rather than a specific instance.\n",
        "  Access to Class: Class methods have access to the class itself (cls) and can modify class attributes. They cannot directly modify instance attributes.\n",
        "  Calling: Class methods are called on the class itself (e.g., MyClass.my_class_method()) or on an instance of the class (e.g., my_instance.my_class_method()), but the class is always implicitly passed as the first argument.\n",
        "\n",
        "  Static Methods:\n",
        "\n",
        "  Definition: A static method is defined using the @staticmethod decorator. It does not receive any implicit first argument (neither the instance self nor the class cls).\n",
        "  Purpose: Static methods are essentially regular functions that are part of the class namespace. They are used for utility functions that are related to the class but don't require access to the class itself or its instances.\n",
        "  Access: Static methods do not have access to the class or instance attributes. They operate independently of the class and its instances.\n",
        "  Calling: Static methods are called on the class itself (e.g., MyClass.my_static_method()) or on an instance of the class (e.g., my_instance.my_static_method())."
      ],
      "metadata": {
        "id": "v3bdXqTC3Aid"
      }
    },
    {
      "cell_type": "markdown",
      "source": [
        "11Q. What is method overloading in Python.\n",
        "\n",
        "A. Method overloading, in its traditional sense as found in\n",
        "   languages like Java or C++, refers to defining multiple methods within the same class that have the same name but different parameter lists (different number or types of arguments). The compiler then chooses which method to call based on the arguments provided during the method invocation.\n",
        "\n",
        "   However, Python does not support method overloading in the same way as these languages. If you define multiple methods with the same name in a Python class, the last definition will effectively override any previous ones."
      ],
      "metadata": {
        "id": "s1IfwXHY3mGm"
      }
    },
    {
      "cell_type": "markdown",
      "source": [
        "12Q. What is method overriding in OOP.\n",
        "\n",
        "A. Method overriding is a crucial concept in object-oriented\n",
        "   programming (OOP) that allows a subclass (or derived class) to provide a specific implementation for a method that is already defined in its superclass (or base class). This allows the subclass to customize or extend the behavior of the inherited method while maintaining the same method signature (name and parameters)."
      ],
      "metadata": {
        "id": "brPyxwRJ3_qx"
      }
    },
    {
      "cell_type": "markdown",
      "source": [
        "13Q. What is a property decorator in Python?\n",
        "\n",
        "A.   A property decorator in Python is a way to define \"getter,\"\n",
        "    \"setter,\" and \"deleter\" methods for class attributes in a more concise and Pythonic way.  It allows you to access and modify class attributes like regular attributes (e.g., object.attribute) while still having control over how those attributes are accessed and modified behind the scenes.  This provides a form of encapsulation, allowing you to manage attribute access and enforce data validation or other logic."
      ],
      "metadata": {
        "id": "Aq7OL0n_5DPP"
      }
    },
    {
      "cell_type": "markdown",
      "source": [
        "14Q.Why is polymorphism important in OOP.\n",
        "\n",
        "A. Polymorphism is a crucial concept in object-oriented  \n",
        "   programming (OOP) that offers several significant benefits, making it an essential tool for software development. Here's why polymorphism is so important:Code Reusability and Flexibility,Extensibility and Maintainability, Abstraction and Simplified Code,Loose Coupling."
      ],
      "metadata": {
        "id": "CfZYzNKB5fBW"
      }
    },
    {
      "cell_type": "markdown",
      "source": [
        "15Q.  What is an abstract class in Python?\n",
        "\n",
        "A. In Python, an abstract class is a class that cannot be\n",
        "   instantiated directly.  Its primary purpose is to serve as a blueprint or template for other classes (its subclasses).  Abstract classes define a common interface and set of methods that their subclasses must implement.  They enforce a certain structure and behavior across a family of related classes."
      ],
      "metadata": {
        "id": "eEPDESrp6KJf"
      }
    },
    {
      "cell_type": "markdown",
      "source": [
        "16Q. What are the advantages of OOP.\n",
        "\n",
        "A. Object-oriented programming (OOP) offers several significant\n",
        "  advantages that contribute to its widespread use in software development. Here are some of the key benefits:. Modularity, Reusability, Maintainability,Extensibility,Abstraction,Encapsulation,Polymorphism."
      ],
      "metadata": {
        "id": "4TNPpPxu6gDv"
      }
    },
    {
      "cell_type": "markdown",
      "source": [
        "17Q. What is the difference between a class variable and an\n",
        "     instance variable.\n",
        "\n",
        "A.  Instance Variables\n",
        "\n",
        "Belong to Instances: Instance variables are specific to each instance (object) of a class. Each object gets its own copy of the instance variables.\n",
        "Unique Values: The values of instance variables can be different for each object. One object might have a certain value for an instance variable, while another object of the same class can have a different value for the same instance variable.\n",
        "Access: Instance variables are accessed using the self keyword (within methods of the class) or through the object itself (e.g., object.instance_variable).\n",
        "Creation: Instance variables are typically created and initialized within the class's __init__ method (the constructor).\n",
        "Scope: Instance variables have instance scope. They are accessible within the methods of the class for a particular instance and can also be accessed from outside the class through the object.\n",
        "\n",
        "Class Variables:\n",
        "\n",
        "Belong to the Class: Class variables belong to the class itself, not to any particular instance. There is only one copy of a class variable shared by all instances of the class.\n",
        "Shared Value: The value of a class variable is the same for all objects of the class. If you change the value of a class variable, that change will be reflected for all existing and future instances of the class.\n",
        "Access: Class variables are accessed using the class name (e.g., MyClass.class_variable) or through an instance of the class (e.g., object.class_variable), but it's generally better practice to use the class name to emphasize that it's a class-level attribute.\n",
        "Creation: Class variables are defined within the class but outside any method (including the __init__ method).\n",
        "Scope: Class variables have class scope. They are accessible within all methods of the class and can be accessed from outside the class using the class name or an instance."
      ],
      "metadata": {
        "id": "-RFMHO1z7QWW"
      }
    },
    {
      "cell_type": "markdown",
      "source": [
        "18Q.  What is multiple inheritance in Python+\n",
        "\n",
        "A. Multiple inheritance is a feature in object-oriented  \n",
        "   programming (OOP) where a class can inherit from multiple parent classes (also known as base classes or superclasses). This means the derived class (or child class) inherits attributes and methods from all of its parent classes.  It's like a child inheriting traits from both parents."
      ],
      "metadata": {
        "id": "EMaT-HcV8C72"
      }
    },
    {
      "cell_type": "markdown",
      "source": [
        "19Q. Explain the purpose of ‘’__str__’ and ‘__repr__’ ‘ methods in\n",
        "    Python.\n",
        "\n",
        "A.  Both __str__ and __repr__ are special methods (dunder methods) in Python used to represent objects as strings. However, they serve slightly different purposes and are used in different contexts.\n",
        "\n",
        "__str__(self):\n",
        "\n",
        "Purpose: The primary purpose of __str__ is to provide a user-friendly, human-readable string representation of an object. This is the string representation that's intended to be displayed to the end-user.\n",
        "Usage: __str__ is called implicitly when you use the str() function on an object, or when you print() an object.\n",
        "Focus: The string returned by __str__ should be informative and easy to understand for someone who isn't necessarily a developer. It's often a simplified or more descriptive representation of the object's state.\n",
        "\n",
        "__repr__(self):\n",
        "\n",
        "Purpose: The primary purpose of __repr__ is to provide an unambiguous, developer-friendly string representation of an object. This string representation should ideally be able to recreate the object if passed to the eval() function (or at least provide enough information for a developer to understand the object's structure).\n",
        "Usage: __repr__ is called implicitly when you use the repr() function on an object, or when you inspect an object in the interactive Python interpreter.\n",
        "Focus: The string returned by __repr__ should be detailed and unambiguous, providing information about the object's type and its attributes. It's often more technical and less user-friendly than the string returned by __str__.\n"
      ],
      "metadata": {
        "id": "7tG6LpgV8VjI"
      }
    },
    {
      "cell_type": "markdown",
      "source": [
        "20Q. What is the significance of the ‘super()’ function in Python.\n",
        "\n",
        "A.   The super() function in Python plays a crucial role in object-oriented programming, especially when dealing with inheritance. Its primary significance lies in enabling proper initialization and method calling within class hierarchies.\n",
        "\n",
        "Key Benefits of super():\n",
        "\n",
        "Code Reusability: Avoids redundant code by calling parent class   methods and initializers.\n",
        "\n",
        "Maintainability: Makes code easier to maintain by centralizing initialization and method logic in the appropriate classes.\n",
        "\n",
        "Extensibility: Facilitates extending or modifying parent class behavior in subclasses without rewriting the entire method.\n",
        "\n",
        "Robustness: Ensures correct method calling order in complex inheritance hierarchies, especially with multiple inheritance.\n",
        "\n",
        "In summary, super() is essential for proper inheritance and method resolution in Python. It promotes code reusability, maintainability, and extensibility, making it a crucial tool for object-oriented programming."
      ],
      "metadata": {
        "id": "SLnTum849a5T"
      }
    },
    {
      "cell_type": "markdown",
      "source": [
        "21Q. What is the significance of the __del__ method in Python.\n",
        "\n",
        "A.  The __del__ method (also known as the destructor) in Python is\n",
        "    a special method that is automatically called when an object's reference count drops to zero, and the object is about to be garbage collected.  While it exists, its use is generally discouraged and it has some important caveats.  "
      ],
      "metadata": {
        "id": "sGev2ZVU-FcM"
      }
    },
    {
      "cell_type": "markdown",
      "source": [
        "22Q. What is the difference between @staticmethod and @classmethod\n",
        "     in Python.\n",
        "\n",
        "A.   Feature\t@staticmethod\t@classmethod\n",
        "Binding:\n",
        "@staticmethod: Not bound to class or instance.\n",
        "@classmethod :\tBound to class.\n",
        "\n",
        "First Argument:\n",
        " @staticmethod:\tNone\n",
        " @classmethod: cls (the class).\n",
        "\n",
        "Access:\n",
        "@staticmethod:No access to class or instance attributes\t@classmethod:Access to class attributes (can modify)\n",
        "\n",
        "Purpose:\n",
        "@staticmethod:\tUtility functions related to the class\n",
        "@classmethod: Factory methods, alternative constructors, class-related operations\n"
      ],
      "metadata": {
        "id": "81SO9SGC-hhE"
      }
    },
    {
      "cell_type": "markdown",
      "source": [
        "23Q. How does polymorphism work in Python with inheritance.\n",
        "\n",
        "A.   Polymorphism, combined with inheritance, is a powerful mechanism in object-oriented programming (OOP) that allows you to treat objects of different classes in a uniform way. Here's how it works in Python:\n",
        "\n",
        "1. Inheritance and Method Overriding\n",
        "\n",
        "Base Class: You have a base class (superclass) that defines certain methods (behaviors).\n",
        "Derived Classes: You create derived classes (subclasses) that inherit from the base class.\n",
        "Method Overriding: In the derived classes, you can override (redefine) methods that were defined in the base class. This means the derived class provides its own specific implementation of the method, which can be different from the base class's implementation.\n",
        "2. Polymorphism in Action\n",
        "\n",
        "Common Interface: Because the derived classes inherit from the base class, they all share a common interface (the methods defined in the base class).\n",
        "Treating Objects Uniformly: You can create a collection (like a list or tuple) that holds objects of different derived classes.\n",
        "Calling Methods Polymorphically: You can then iterate through this collection and call a method on each object, without needing to know the specific type of each object. Python's runtime polymorphism ensures that the correct version of the method (the one defined in the object's actual class) is called."
      ],
      "metadata": {
        "id": "jpoPNqAJANwt"
      }
    },
    {
      "cell_type": "markdown",
      "source": [
        "24. What is method chaining in Python OOP.\n",
        "\n",
        "A. Method chaining in Python is a programming technique where you\n",
        "  call multiple methods on the same object in a single line of code, one after the other. Each method call returns the object itself (or a modified version of it), allowing you to chain the next method call directly."
      ],
      "metadata": {
        "id": "aeXebWTkAkw8"
      }
    },
    {
      "cell_type": "markdown",
      "source": [
        "25Q. What is the purpose of the __call__ method in Python?\n",
        "\n",
        "A.   The __call__ method in Python is a special (dunder or magic)\n",
        "    method that allows you to make an object callable, just like a regular function.  When you define __call__ in a class, instances of that class can be called as if they were functions.\n",
        "\n",
        "  How it Works\n",
        "\n",
        "  When you call an object (instance of a class) using parentheses (), Python automatically invokes the object's __call__ method.  Any arguments you provide within the parentheses are passed as arguments to the __call__ method."
      ],
      "metadata": {
        "id": "zfWSkMcmA5bc"
      }
    },
    {
      "cell_type": "markdown",
      "source": [
        "# Practical Questions"
      ],
      "metadata": {
        "id": "MiVZi1_mBQlV"
      }
    },
    {
      "cell_type": "markdown",
      "source": [
        "1Q.  Create a parent class Animal with a method speak() that  \n",
        "     prints a generic message. Create a child class Dog\n",
        "     that overrides the speak() method to print \"Bark!\".\n"
      ],
      "metadata": {
        "id": "Ss6vtIxlBW0U"
      }
    },
    {
      "cell_type": "code",
      "source": [
        "class Animal:\n",
        "    def speak(self):\n",
        "        print(\"Some animal sound\")\n",
        "\n",
        "class Dog(Animal):\n",
        "    def speak(self):\n",
        "        print(\"Bark!\")\n",
        "\n",
        "# Create instances of the classes\n",
        "animal = Animal()\n",
        "dog = Dog()\n",
        "\n",
        "# Call the speak() method for each instance\n",
        "animal.speak()  # Output: Some animal sound\n",
        "dog.speak()    # Output: Bark!"
      ],
      "metadata": {
        "id": "q9blaeWlB--i"
      },
      "execution_count": null,
      "outputs": []
    },
    {
      "cell_type": "markdown",
      "source": [
        "2Q. Write a program to create an abstract class Shape with a  \n",
        "   method area(). Derive classes Circle and Rectangle\n",
        "   from it and implement the area() method in both."
      ],
      "metadata": {
        "id": "ctOE0QoiCC1I"
      }
    },
    {
      "cell_type": "code",
      "source": [
        "from abc import ABC, abstractmethod\n",
        "import math\n",
        "\n",
        "class Shape(ABC):  # Abstract base class\n",
        "    @abstractmethod\n",
        "    def area(self):\n",
        "        pass  # No implementation in the abstract class\n",
        "\n",
        "class Circle(Shape):\n",
        "    def __init__(self, radius):\n",
        "        self.radius = radius\n",
        "\n",
        "    def area(self):\n",
        "        return math.pi * self.radius**2\n",
        "\n",
        "class Rectangle(Shape):\n",
        "    def __init__(self, length, width):\n",
        "        self.length = length\n",
        "        self.width = width\n",
        "\n",
        "    def area(self):\n",
        "        return self.length * self.width\n",
        "\n",
        "\n",
        "# Example usage:\n",
        "circle = Circle(5)\n",
        "rectangle = Rectangle(4, 6)\n",
        "\n",
        "print(f\"Area of the circle: {circle.area()}\")\n",
        "print(f\"Area of the rectangle: {rectangle.area()}\")\n",
        "\n"
      ],
      "metadata": {
        "id": "pwPDeW4RCcrz"
      },
      "execution_count": null,
      "outputs": []
    },
    {
      "cell_type": "markdown",
      "source": [
        "3Q.Implement a multi-level inheritance scenario where a class\n",
        "  Vehicle has an attribute type. Derive a class Car\n",
        "  and further derive a class ElectricCar that adds a battery attribute.\n",
        "\n",
        "\n"
      ],
      "metadata": {
        "id": "jeuFBsUGCxFx"
      }
    },
    {
      "cell_type": "code",
      "source": [
        "class Vehicle:\n",
        "    def __init__(self, type):\n",
        "        self.type = type\n",
        "\n",
        "    def display_type(self):\n",
        "        print(f\"Vehicle Type: {self.type}\")\n",
        "\n",
        "class Car(Vehicle):\n",
        "    def __init__(self, type, model, num_doors):\n",
        "        super().__init__(type)  # Call the parent class's __init__\n",
        "        self.model = model\n",
        "        self.num_doors = num_doors\n",
        "\n",
        "    def display_car_details(self):\n",
        "        print(f\"Model: {self.model}, Doors: {self.num_doors}\")\n",
        "\n",
        "class ElectricCar(Car):\n",
        "    def __init__(self, type, model, num_doors, battery_capacity):\n",
        "        super().__init__(type, model, num_doors) # Call the Car class's __init__\n",
        "        self.battery_capacity = battery_capacity\n",
        "\n",
        "    def display_electric_car_details(self):\n",
        "        print(f\"Battery Capacity: {self.battery_capacity} kWh\")\n",
        "\n",
        "\n"
      ],
      "metadata": {
        "id": "xmi1GXUnDpar"
      },
      "execution_count": null,
      "outputs": []
    },
    {
      "cell_type": "markdown",
      "source": [
        "4Q. Demonstrate polymorphism by creating a base class Bird with a\n",
        "   method fly(). Create two derived classes\n",
        "    Sparrow and Penguin that override the fly() method.\n"
      ],
      "metadata": {
        "id": "IiR5FKFzDtew"
      }
    },
    {
      "cell_type": "code",
      "source": [
        "class Bird:\n",
        "    def fly(self):\n",
        "        print(\"Generic bird flying\")\n",
        "\n",
        "class Sparrow(Bird):\n",
        "    def fly(self):\n",
        "        print(\"Sparrow flying\")\n",
        "\n",
        "class Penguin(Bird):\n",
        "    def fly(self):\n",
        "        print(\"Penguin can't fly, but waddles\")\n",
        "\n",
        "# Demonstrate polymorphism:\n",
        "def bird_flight(bird):  # A function that works with any Bird type\n",
        "    bird.fly()\n",
        "\n",
        "# Create instances of different bird types\n",
        "bird = Bird()\n",
        "sparrow = Sparrow()\n",
        "penguin = Penguin()\n",
        "\n",
        "# Call the function with different bird objects\n",
        "bird_flight(bird)      # Output: Generic bird flying\n",
        "bird_flight(sparrow)   # Output: Sparrow flying\n",
        "bird_flight(penguin)   # Output: Penguin can't fly, but waddles\n",
        "\n",
        "\n",
        "# Another way to demonstrate polymorphism directly:\n",
        "birds = [bird, sparrow, penguin]\n",
        "for b in birds:\n",
        "    b.fly() # Calls the correct fly() method for each object type.\n",
        "\n",
        "# Even more concise:\n",
        "for b in [Bird(), Sparrow(), Penguin()]:\n",
        "    b.fly()"
      ],
      "metadata": {
        "id": "DY0x-sDgD8Na"
      },
      "execution_count": null,
      "outputs": []
    },
    {
      "cell_type": "markdown",
      "source": [
        "5Q. Write a program to demonstrate encapsulation by creating a class BankAccount with private attributes\n",
        "balance and methods to deposit, withdraw, and check balance."
      ],
      "metadata": {
        "id": "ykkkvlm7EICm"
      }
    },
    {
      "cell_type": "code",
      "source": [
        "class BankAccount:\n",
        "    def __init__(self, account_number, initial_balance=0):\n",
        "        self.__account_number = account_number  # Private attribute (name mangling)\n",
        "        self.__balance = initial_balance      # Private attribute (name mangling)\n",
        "\n",
        "    def deposit(self, amount):\n",
        "        if amount > 0:\n",
        "            self.__balance += amount\n",
        "            return True  # Indicate successful deposit\n",
        "        else:\n",
        "            print(\"Deposit amount must be positive.\")\n",
        "            return False # Indicate unsuccessful deposit\n",
        "\n",
        "    def withdraw(self, amount):\n",
        "        if amount > 0:\n",
        "            if amount <= self.__balance:\n",
        "                self.__balance -= amount\n",
        "                return True  # Indicate successful withdrawal\n",
        "            else:\n",
        "                print(\"Insufficient funds.\")\n",
        "                return False # Indicate unsuccessful withdrawal\n",
        "        else:\n",
        "            print(\"Withdrawal amount must be positive.\")\n",
        "            return False # Indicate unsuccessful withdrawal\n",
        "\n",
        "    def check_balance(self):\n",
        "        return self.__balance\n",
        "\n",
        "    # A better way to access the account number (using a getter method)\n",
        "    def get_account_number(self):\n",
        "        return self.__account_number"
      ],
      "metadata": {
        "id": "xIBhIVGaEOkZ"
      },
      "execution_count": null,
      "outputs": []
    },
    {
      "cell_type": "markdown",
      "source": [
        "6Q.  Demonstrate runtime polymorphism using a method play() in a\n",
        "    base class Instrument. Derive classes Guitar\n",
        "   and Piano that implement their own version of play().\n"
      ],
      "metadata": {
        "id": "EN0bTIh9EZpg"
      }
    },
    {
      "cell_type": "code",
      "source": [
        "class Instrument:\n",
        "    def play(self):\n",
        "        print(\"Playing a generic instrument\")\n",
        "\n",
        "class Guitar(Instrument):\n",
        "    def play(self):\n",
        "        print(\"Strumming the guitar\")\n",
        "\n",
        "class Piano(Instrument):\n",
        "    def play(self):\n",
        "        print(\"Playing the piano keys\")\n",
        "\n",
        "# Runtime polymorphism demonstrated through a list:\n",
        "instruments = [Guitar(), Piano(), Guitar(), Instrument(), Piano()]\n",
        "\n",
        "for instrument in instruments:\n",
        "    instrument.play()  # The correct play() method is called at runtime\n",
        "\n",
        "# Another way to demonstrate runtime polymorphism (function):\n",
        "\n",
        "def tune_instrument(instrument):\n",
        "    instrument.play()\n",
        "\n",
        "tune_instrument(Guitar())   # Output: Strumming the guitar\n",
        "tune_instrument(Piano())    # Output: Playing the piano keys\n",
        "tune_instrument(Instrument()) # Output: Playing a generic instrument\n",
        "\n",
        "\n",
        "# Demonstrating with variables:\n",
        "my_instrument = Guitar()\n",
        "my_instrument.play() # Output: Strumming the guitar\n",
        "\n",
        "my_instrument = Piano()  # my_instrument now refers to a Piano object\n",
        "my_instrument.play() # Output: Playing the piano keys\n",
        "\n",
        "my_instrument = Instrument() # my_instrument now refers to a Instrument object\n",
        "my_instrument.play() # Output: Playing a generic instrument"
      ],
      "metadata": {
        "id": "eUgUQXAbEk8F"
      },
      "execution_count": null,
      "outputs": []
    },
    {
      "cell_type": "markdown",
      "source": [
        "7Q. Create a class MathOperations with a class method add_numbers() to add two numbers and a static\n",
        "method subtract_numbers() to subtract two numbers."
      ],
      "metadata": {
        "id": "T1UyqNoeEuv3"
      }
    },
    {
      "cell_type": "code",
      "source": [
        "class MathOperations:\n",
        "\n",
        "    @classmethod\n",
        "    def add_numbers(cls, num1, num2):\n",
        "        return num1 + num2\n",
        "\n",
        "    @staticmethod\n",
        "    def subtract_numbers(num1, num2):\n",
        "        return num1 - num2\n",
        "\n",
        "# Example Usage:\n",
        "\n",
        "# Calling the class method:\n",
        "sum_result = MathOperations.add_numbers(10, 5)\n",
        "print(f\"Sum: {sum_result}\")  # Output: Sum: 15\n",
        "\n",
        "# Calling the static method:\n",
        "difference_result = MathOperations.subtract_numbers(20, 7)\n",
        "print(f\"Difference: {difference_result}\") # Output: Difference: 13\n",
        "\n",
        "\n",
        "# You can also call them on an instance, but it's not the usual way for class/static methods\n",
        "math_ops = MathOperations()\n",
        "sum_result2 = math_ops.add_numbers(8, 2)  # Works, but not idiomatic\n",
        "diff_result2 = math_ops.subtract_numbers(15, 3) # Works, but not idiomatic\n",
        "print(f\"Sum (instance call): {sum_result2}\") # Output: Sum (instance call): 10\n",
        "print(f\"Difference (instance call): {diff_result2}\") # Output: Difference (instance call): 12"
      ],
      "metadata": {
        "id": "O9xw8_xkEzgb"
      },
      "execution_count": null,
      "outputs": []
    },
    {
      "cell_type": "markdown",
      "source": [
        "8Q. Implement a class Person with a class method to count the total number of persons created.\n",
        "\n"
      ],
      "metadata": {
        "id": "iSm0MrSjE90B"
      }
    },
    {
      "cell_type": "code",
      "source": [
        "class Person:\n",
        "    \"\"\"\n",
        "    A class to represent a person.\n",
        "    \"\"\"\n",
        "    _person_count = 0  # Class variable to keep track of total persons\n",
        "\n",
        "    def __init__(self, name):\n",
        "        \"\"\"\n",
        "        Initializes a Person object.\n",
        "\n",
        "        Args:\n",
        "          name: The name of the person.\n",
        "        \"\"\"\n",
        "        self.name = name\n",
        "        Person._person_count += 1\n",
        "\n",
        "    @classmethod\n",
        "    def get_person_count(cls):\n",
        "        \"\"\"\n",
        "        Returns the total number of persons created.\n",
        "\n",
        "        Returns:\n",
        "          int: The total number of persons created.\n",
        "        \"\"\"\n",
        "        return cls._person_count\n",
        "\n",
        "# Create some Person objects\n",
        "person1 = Person(\"Alice\")\n",
        "person2 = Person(\"Bob\")\n",
        "person3 = Person(\"Charlie\")\n",
        "\n",
        "# Get the total number of persons created\n",
        "total_persons = Person.get_person_count()\n",
        "\n",
        "print(f\"Total number of persons created: {total_persons}\")  # Output: Total number of persons created: 3"
      ],
      "metadata": {
        "id": "0LLFzlUQFDVI"
      },
      "execution_count": null,
      "outputs": []
    },
    {
      "cell_type": "markdown",
      "source": [
        "9Q. Write a class Fraction with attributes numerator and denominator. Override the str method to display the\n",
        "fraction as \"numerator/denominator\"."
      ],
      "metadata": {
        "id": "S4W6EqK0FKMi"
      }
    },
    {
      "cell_type": "code",
      "source": [
        "class Fraction:\n",
        "    def __init__(self, numerator, denominator):\n",
        "        if denominator == 0:\n",
        "            raise ZeroDivisionError(\"Denominator cannot be zero.\")\n",
        "        self.numerator = numerator\n",
        "        self.denominator = denominator\n",
        "\n",
        "    def __str__(self):\n",
        "        return f\"{self.numerator}/{self.denominator}\"\n",
        "\n",
        "    # Optional: Add other useful methods (e.g., for arithmetic)\n",
        "    def __add__(self, other):\n",
        "        if isinstance(other, Fraction):\n",
        "            new_numerator = self.numerator * other.denominator + other.numerator * self.denominator\n",
        "            new_denominator = self.denominator * other.denominator\n",
        "            return Fraction(new_numerator, new_denominator)\n",
        "        elif isinstance(other, int): # Allow adding integers\n",
        "            return Fraction(self.numerator + other * self.denominator, self.denominator)\n",
        "        else:\n",
        "            return NotImplemented # For other types\n",
        "\n",
        "    def __sub__(self, other):\n",
        "        if isinstance(other, Fraction):\n",
        "            new_numerator = self.numerator * other.denominator - other.numerator * self.denominator\n",
        "            new_denominator = self.denominator * other.denominator\n",
        "            return Fraction(new_numerator, new_denominator)\n",
        "        elif isinstance(other, int): # Allow subtracting integers\n",
        "            return Fraction(self.numerator - other * self.denominator, self.denominator)\n",
        "        else:\n",
        "            return NotImplemented # For other types\n",
        "\n",
        "    def __mul__(self, other):\n",
        "        if isinstance(other, Fraction):\n",
        "            new_numerator = self.numerator * other.numerator\n",
        "            new_denominator = self.denominator * other.denominator\n",
        "            return Fraction(new_numerator, new_denominator)\n",
        "        elif isinstance(other, int): # Allow multiplying integers\n",
        "            return Fraction(self.numerator * other, self.denominator)\n",
        "        else:\n",
        "            return NotImplemented # For other types\n",
        "\n",
        "    def __truediv__(self, other):\n",
        "         if isinstance(other, Fraction):\n",
        "            new_numerator = self.numerator * other.denominator\n",
        "            new_denominator = self.denominator * other.numerator\n",
        "            return Fraction(new_numerator, new_denominator)\n",
        "         elif isinstance(other, int): # Allow dividing by integers\n",
        "            return Fraction(self.numerator, self.denominator * other)\n",
        "         else:\n",
        "            return NotImplemented # For other types"
      ],
      "metadata": {
        "id": "DTghGkwfFQgH"
      },
      "execution_count": null,
      "outputs": []
    },
    {
      "cell_type": "markdown",
      "source": [
        "10Q.Demonstrate operator overloading by creating a class Vector and overriding the add method to add two\n",
        "vectors"
      ],
      "metadata": {
        "id": "PB_bQYNMFc_S"
      }
    },
    {
      "cell_type": "code",
      "source": [
        "class Vector:\n",
        "    def __init__(self, x, y):\n",
        "        self.x = x\n",
        "        self.y = y\n",
        "\n",
        "    def __add__(self, other):\n",
        "        if isinstance(other, Vector):\n",
        "            return Vector(self.x + other.x, self.y + other.y)\n",
        "        else:\n",
        "            raise TypeError(\"Can only add two Vector objects\")\n",
        "\n",
        "    def __str__(self):\n",
        "        return f\"({self.x}, {self.y})\"\n",
        "\n",
        "# Create two Vector objects\n",
        "v1 = Vector(2, 3)\n",
        "v2 = Vector(1, -1)\n",
        "\n",
        "# Add the vectors using the overloaded + operator\n",
        "result = v1 + v2\n",
        "\n",
        "print(f\"v1: {v1}\")\n",
        "print(f\"v2: {v2}\")\n",
        "print(f\"v1 + v2: {result}\")  # Output: v1 + v2: (3, 2)\n",
        "\n",
        "# Demonstrate adding a Vector with a non-Vector (will raise TypeError)\n",
        "# v3 = v1 + (1, 2)  # Uncommenting this line will cause an error"
      ],
      "metadata": {
        "id": "UoUdetR1Fk2M"
      },
      "execution_count": null,
      "outputs": []
    },
    {
      "cell_type": "markdown",
      "source": [
        "11Q. Create a class Person with attributes name and age. Add a method greet() that prints \"Hello, my name is\n",
        "{name} and I am {age} years old.\""
      ],
      "metadata": {
        "id": "JVnyqmm4Fy8F"
      }
    },
    {
      "cell_type": "code",
      "source": [
        "class Person:\n",
        "    def __init__(self, name, age):\n",
        "        self.name = name\n",
        "        self.age = age\n",
        "\n",
        "    def greet(self):\n",
        "        print(f\"Hello, my name is {self.name} and I am {self.age} years old.\")\n",
        "\n",
        "# Example Usage:\n",
        "person1 = Person(\"Alice\", 30)\n",
        "person1.greet()  # Output: Hello, my name is Alice and I am 30 years old.\n",
        "\n",
        "person2 = Person(\"Bob\", 25)\n",
        "person2.greet()  # Output: Hello, my name is Bob and I am 25 years old.\n",
        "\n",
        "person3 = Person(\"Charlie\", 40)\n",
        "person3.greet() # Output: Hello, my name is Charlie and I am 40 years old."
      ],
      "metadata": {
        "id": "2Uhcbmr2F33_"
      },
      "execution_count": null,
      "outputs": []
    },
    {
      "cell_type": "markdown",
      "source": [
        "12Q.  Implement a class Student with attributes name and grades. Create a method average_grade() to compute\n",
        "the average of the grades."
      ],
      "metadata": {
        "id": "4ozRAI7qGAmc"
      }
    },
    {
      "cell_type": "code",
      "source": [
        "class Student:\n",
        "    def __init__(self, name):\n",
        "        self.name = name\n",
        "        self.grades = []  # Initialize an empty list to store grades\n",
        "\n",
        "    def add_grade(self, grade):\n",
        "        if not isinstance(grade, (int, float)): # Check if the grade is a number\n",
        "            raise TypeError(\"Grade must be a number (int or float).\")\n",
        "        if grade < 0: # Check if the grade is valid\n",
        "            raise ValueError(\"Grade cannot be negative.\")\n",
        "        self.grades.append(grade)\n",
        "\n",
        "    def average_grade(self):\n",
        "        if not self.grades:  # Check if the list of grades is empty\n",
        "            return 0  # Return 0 if no grades have been added yet\n",
        "        return sum(self.grades) / len(self.grades)\n",
        "\n",
        "\n",
        "# Example Usage:\n",
        "student1 = Student(\"Alice\")\n",
        "student1.add_grade(85)\n",
        "student1.add_grade(92)\n",
        "student1.add_grade(78)\n",
        "\n",
        "average = student1.average_grade()\n",
        "print(f\"{student1.name}'s average grade: {average}\")  # Output: Alice's average grade: 85.0\n",
        "\n",
        "student2 = Student(\"Bob\")\n",
        "student2.add_grade(90)\n",
        "student2.add_grade(80)\n",
        "student2.add_grade(75)\n",
        "student2.add_grade(95)\n",
        "\n",
        "average2 = student2.average_grade()\n",
        "print(f\"{student2.name}'s average grade: {average2}\")  # Output: Bob's average grade: 85.0\n",
        "\n",
        "student3 = Student(\"Charlie\")  # No grades added yet\n",
        "average3 = student3.average_grade()\n",
        "print(f\"{student3.name}'s average grade: {average3}\") # Output: Charlie's average grade: 0\n",
        "\n",
        "try:\n",
        "    student1.add_grade(\"A\")  # Trying to add a non-numeric grade\n",
        "except TypeError as e:\n",
        "    print(e)  # Output: Grade must be a number (int or float).\n",
        "\n",
        "try:\n",
        "    student1.add_grade(-10)  # Trying to add a negative grade\n",
        "except ValueError as e:\n",
        "    print(e)  # Output: Grade cannot be negative."
      ],
      "metadata": {
        "id": "wW1ecqk_GKAl"
      },
      "execution_count": null,
      "outputs": []
    },
    {
      "cell_type": "markdown",
      "source": [
        "13Q.  Create a class Rectangle with methods set_dimensions() to set the dimensions and area() to calculate the\n",
        "area"
      ],
      "metadata": {
        "id": "TiETEv0zGSaL"
      }
    },
    {
      "cell_type": "code",
      "source": [
        "class Rectangle:\n",
        "    def __init__(self, length=0, width=0):  # Initialize with default values\n",
        "        self.length = length\n",
        "        self.width = width\n",
        "\n",
        "    def set_dimensions(self, length, width):\n",
        "        if not isinstance(length, (int, float)) or not isinstance(width, (int, float)):\n",
        "            raise TypeError(\"Length and width must be numbers (int or float).\")\n",
        "        if length < 0 or width < 0:\n",
        "            raise ValueError(\"Length and width cannot be negative.\")\n",
        "\n",
        "        self.length = length\n",
        "        self.width = width\n",
        "\n",
        "    def area(self):\n",
        "        return self.length * self.width\n",
        "\n",
        "\n",
        "# Example Usage:\n",
        "rect1 = Rectangle()  # Using default dimensions (0, 0)\n",
        "print(f\"Initial area: {rect1.area()}\")  # Output: Initial area: 0\n",
        "\n",
        "rect1.set_dimensions(5, 10)\n",
        "print(f\"Area after setting dimensions: {rect1.area()}\")  # Output: Area after setting dimensions: 50\n",
        "\n",
        "rect2 = Rectangle(3, 7) # Initialize with specific dimensions\n",
        "print(f\"Area of rect2: {rect2.area()}\") # Output: Area of rect2: 21\n",
        "\n",
        "try:\n",
        "    rect1.set_dimensions(\"a\", 10)  # Trying to set non-numeric dimensions\n",
        "except TypeError as e:\n",
        "    print(e)  # Output: Length and width must be numbers (int or float).\n",
        "\n",
        "try:\n",
        "    rect1.set_dimensions(-5, 10)  # Trying to set negative dimensions\n",
        "except ValueError as e:\n",
        "    print(e)  # Output: Length and width cannot be negative."
      ],
      "metadata": {
        "id": "j6exDrb5GWEM"
      },
      "execution_count": null,
      "outputs": []
    },
    {
      "cell_type": "markdown",
      "source": [
        "14Q.  Create a class Employee with a method calculate_salary() that computes the salary based on hours worked\n",
        "and hourly rate. Create a derived class Manager that adds a bonus to the salary."
      ],
      "metadata": {
        "id": "-BthpM5EGeZ7"
      }
    },
    {
      "cell_type": "code",
      "source": [
        "class Employee:\n",
        "    def __init__(self, name, hourly_rate):\n",
        "        self.name = name\n",
        "        self.hourly_rate = hourly_rate\n",
        "\n",
        "    def calculate_salary(self, hours_worked):\n",
        "        return hours_worked * self.hourly_rate\n",
        "\n",
        "class Manager(Employee):\n",
        "    def __init__(self, name, hourly_rate, bonus):\n",
        "        super().__init__(name, hourly_rate)  # Call the parent class's __init__\n",
        "        self.bonus = bonus\n",
        "\n",
        "    def calculate_salary(self, hours_worked):\n",
        "        base_salary = super().calculate_salary(hours_worked)  # Call parent's calculate_salary\n",
        "        return base_salary + self.bonus\n",
        "\n",
        "\n",
        "# Example Usage:\n",
        "employee1 = Employee(\"Alice\", 20)\n",
        "salary1 = employee1.calculate_salary(40)\n",
        "print(f\"{employee1.name}'s salary: ${salary1}\")  # Output: Alice's salary: $800\n",
        "\n",
        "manager1 = Manager(\"Bob\", 30, 500)\n",
        "salary2 = manager1.calculate_salary(40)\n",
        "print(f\"{manager1.name}'s salary: ${salary2}\")  # Output: Bob's salary: $1700\n",
        "\n",
        "manager2 = Manager(\"Charlie\", 25, 1000)\n",
        "salary3 = manager2.calculate_salary(50)\n",
        "print(f\"{manager2.name}'s salary: ${salary3}\")  # Output: Charlie's salary: $2250\n",
        "\n",
        "\n",
        "# Demonstrating polymorphism:\n",
        "employees = [employee1, manager1, manager2]  # List of mixed Employee and Manager objects\n",
        "\n",
        "for emp in employees:\n",
        "    if isinstance(emp, Manager):  # Check if the employee is a manager\n",
        "        salary = emp.calculate_salary(40) # Example: 40 hours for all\n",
        "        print(f\"{emp.name}'s salary (Manager): ${salary}\")\n",
        "    else:\n",
        "        salary = emp.calculate_salary(40) # Example: 40 hours for all\n",
        "        print(f\"{emp.name}'s salary (Employee): ${salary}\")"
      ],
      "metadata": {
        "id": "7PnY4RDVGnUE"
      },
      "execution_count": null,
      "outputs": []
    },
    {
      "cell_type": "markdown",
      "source": [
        "15Q.  Create a class Product with attributes name, price, and quantity. Implement a method total_price() that\n",
        "calculates the total price of the product."
      ],
      "metadata": {
        "id": "bCs6XB1PGt1L"
      }
    },
    {
      "cell_type": "code",
      "source": [
        "class Product:\n",
        "    def __init__(self, name, price, quantity):\n",
        "        if not isinstance(name, str):\n",
        "            raise TypeError(\"Name must be a a string.\")\n",
        "        if not isinstance(price, (int, float)):\n",
        "            raise TypeError(\"Price must be a number (int or float).\")\n",
        "        if not isinstance(quantity, int):\n",
        "            raise TypeError(\"Quantity must be an integer.\")\n",
        "\n",
        "        if price < 0:\n",
        "            raise ValueError(\"Price cannot be negative.\")\n",
        "        if quantity < 0:\n",
        "            raise ValueError(\"Quantity cannot be negative.\")\n",
        "\n",
        "        self.name = name\n",
        "        self.price = price\n",
        "        self.quantity = quantity\n",
        "\n",
        "    def total_price(self):\n",
        "        return self.price * self.quantity"
      ],
      "metadata": {
        "id": "ti0KhuvbHGRE"
      },
      "execution_count": null,
      "outputs": []
    },
    {
      "cell_type": "markdown",
      "source": [
        "16Q. Create a class Animal with an abstract method sound(). Create two derived classes Cow and Sheep that\n",
        "implement the sound() method."
      ],
      "metadata": {
        "id": "dwgntCNzHLg3"
      }
    },
    {
      "cell_type": "code",
      "source": [
        "from abc import ABC, abstractmethod\n",
        "\n",
        "class Animal(ABC):  # Abstract base class\n",
        "    @abstractmethod\n",
        "    def sound(self):\n",
        "        pass  # No implementation in the abstract class\n",
        "\n",
        "class Cow(Animal):\n",
        "    def sound(self):\n",
        "        print(\"Moo!\")\n",
        "\n",
        "class Sheep(Animal):\n",
        "    def sound(self):\n",
        "        print(\"Baa!\")\n",
        "\n",
        "# Example Usage:\n",
        "cow = Cow()\n",
        "sheep = Sheep()\n",
        "\n",
        "cow.sound()    # Output: Moo!\n",
        "sheep.sound()  # Output: Baa!\n",
        "\n",
        "animals = [cow, sheep] # Demonstrating polymorphism\n",
        "for animal in animals:\n",
        "    animal.sound() # Correct sound is made for each animal type\n",
        "\n",
        "# Trying to instantiate the abstract class will raise an error:\n",
        "# animal = Animal()  # TypeError: Can't instantiate abstract class Animal with\n",
        "# abstract methods sound"
      ],
      "metadata": {
        "id": "RPSaWfIsHRzU"
      },
      "execution_count": null,
      "outputs": []
    },
    {
      "cell_type": "markdown",
      "source": [
        "17Q. . Create a class Book with attributes title, author, and year_published. Add a method get_book_info() that\n",
        "returns a formatted string with the book's details.\n",
        "\n",
        "\n"
      ],
      "metadata": {
        "id": "ugSe6CK9HdIA"
      }
    },
    {
      "cell_type": "code",
      "source": [
        "class Book:\n",
        "    def __init__(self, title, author, year_published):\n",
        "        if not isinstance(title, str):\n",
        "            raise TypeError(\"Title must be a string.\")\n",
        "        if not isinstance(author, str):\n",
        "            raise TypeError(\"Author must be a string.\")\n",
        "        if not isinstance(year_published, int):\n",
        "            raise TypeError(\"Year published must be an integer.\")\n",
        "\n",
        "        if year_published < 0:\n",
        "            raise ValueError(\"Year published cannot be negative.\")\n",
        "\n",
        "        self.title = title\n",
        "        self.author = author\n",
        "        self.year_published = year_published\n",
        "\n",
        "    def get_book_info(self):\n",
        "        return f'\"{self.title}\" by {self.author} ({self.year_published})'\n",
        "\n",
        "\n",
        "# Example Usage:\n",
        "book1 = Book(\"The Hitchhiker's Guide to the Galaxy\", \"Douglas Adams\", 1979)\n",
        "book_info1 = book1.get_book_info()\n",
        "print(book_info1)  # Output: \"The Hitchhiker's Guide to the Galaxy\" by Douglas Adams (1979)\n",
        "\n",
        "book2 = Book(\"Pride and Prejudice\", \"Jane Austen\", 1813)\n",
        "book_info2 = book2.get_book_info()\n",
        "print(book_info2)  # Output: \"Pride and Prejudice\" by Jane Austen (1813)\n",
        "\n",
        "book3 = Book(\"To Kill a Mockingbird\", \"Harper Lee\", 1960)\n",
        "book_info3 = book3.get_book_info()\n",
        "print(book_info3)  # Output: \"To Kill a Mockingbird\" by Harper Lee (1960)\n",
        "\n",
        "try:\n",
        "    book4 = Book(123, \"Author\", 2000)  # Invalid title (not a string)\n",
        "except TypeError as e:\n",
        "    print(e)  # Output: Title must be a string.\n",
        "\n",
        "try:\n",
        "    book5 = Book(\"Title\", 456, 2000)  # Invalid author (not a string)\n",
        "except TypeError as e:\n",
        "    print(e)  # Output: Author must be a string.\n",
        "\n",
        "try:\n",
        "    book6 = Book(\"Title\", \"Author\", -2000)  # Invalid year (negative)\n",
        "except ValueError as e:\n",
        "    print(e)  # Output: Year published cannot be negative.\n",
        "\n",
        "try:\n",
        "    book7 = Book(\"Title\", \"Author\", \"2000\")  # Invalid year (not an integer)\n",
        "except TypeError as e:\n",
        "    print(e)  # Output: Year published must be an integer."
      ],
      "metadata": {
        "id": "GZoGFAfOHjIJ"
      },
      "execution_count": null,
      "outputs": []
    },
    {
      "cell_type": "markdown",
      "source": [
        "18Q. Create a class House with attributes address and price. Create a derived class Mansion that adds an\n",
        "attribute number_of_rooms."
      ],
      "metadata": {
        "id": "Zmcl06JLHtYy"
      }
    },
    {
      "cell_type": "code",
      "source": [
        "class Book:\n",
        "    def __init__(self, title, author, year_published):\n",
        "        if not isinstance(title, str):\n",
        "            raise TypeError(\"Title must be a string.\")\n",
        "        if not isinstance(author, str):\n",
        "            raise TypeError(\"Author must be a string.\")\n",
        "        if not isinstance(year_published, int):\n",
        "            raise TypeError(\"Year published must be an integer.\")\n",
        "\n",
        "        if year_published < 0:\n",
        "            raise ValueError(\"Year published cannot be negative.\")\n",
        "\n",
        "        self.title = title\n",
        "        self.author = author\n",
        "        self.year_published = year_published\n",
        "\n",
        "    def get_book_info(self):\n",
        "        return f'\"{self.title}\" by {self.author} ({self.year_published})'\n"
      ],
      "metadata": {
        "id": "Gk73kqkcIApk"
      },
      "execution_count": null,
      "outputs": []
    }
  ]
}